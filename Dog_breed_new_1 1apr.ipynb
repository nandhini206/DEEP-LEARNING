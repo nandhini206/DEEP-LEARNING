{
  "nbformat": 4,
  "nbformat_minor": 0,
  "metadata": {
    "colab": {
      "provenance": [],
      "gpuType": "T4"
    },
    "kernelspec": {
      "name": "python3",
      "display_name": "Python 3"
    },
    "language_info": {
      "name": "python"
    },
    "accelerator": "GPU"
  },
  "cells": [
    {
      "cell_type": "code",
      "execution_count": 21,
      "metadata": {
        "id": "jPLFEYxrAYDs"
      },
      "outputs": [],
      "source": [
        "import os\n",
        "import numpy as np\n",
        "from keras.preprocessing.image import ImageDataGenerator\n",
        "from keras.models import Sequential\n",
        "from keras.layers import Conv2D, MaxPooling2D, Flatten, Dense"
      ]
    },
    {
      "cell_type": "code",
      "source": [
        "train_dir ='/content/drive/MyDrive/google collllab/Dog Breed Dataset/Train'\n",
        "test_dir ='/content/drive/MyDrive/google collllab/Dog Breed Dataset/Test'"
      ],
      "metadata": {
        "id": "sIwv0xLhAZiH"
      },
      "execution_count": 22,
      "outputs": []
    },
    {
      "cell_type": "code",
      "source": [
        "\n",
        "# Parameters\n",
        "batch_size = 32\n",
        "img_height = 150\n",
        "img_width = 150\n",
        "\n",
        "# Create ImageDataGenerator for data augmentation and preprocessing\n",
        "train_datagen = ImageDataGenerator(\n",
        "    rescale=1./255,\n",
        "    shear_range=0.2,\n",
        "    zoom_range=0.2,\n",
        "    horizontal_flip=True\n",
        ")\n",
        "\n",
        "test_datagen = ImageDataGenerator(rescale=1./255)\n",
        "\n",
        "# Load and prepare training data\n",
        "train_generator = train_datagen.flow_from_directory(\n",
        "    train_dir,\n",
        "    target_size=(img_height, img_width),\n",
        "    batch_size=batch_size,\n",
        "    class_mode='categorical'\n",
        ")\n",
        "\n",
        "# Load and prepare test data\n",
        "test_generator = test_datagen.flow_from_directory(\n",
        "    test_dir,\n",
        "    target_size=(img_height, img_width),\n",
        "    batch_size=batch_size,\n",
        "    class_mode='categorical'\n",
        ")\n",
        "\n",
        "# Print out the number of classes found\n",
        "num_classes = len(train_generator.class_indices)\n",
        "print(\"Number of classes:\", num_classes)\n",
        "\n",
        "# Build the CNN model\n",
        "model = Sequential([\n",
        "    Conv2D(32, (3, 3), activation='relu', input_shape=(img_height, img_width, 3)),\n",
        "    MaxPooling2D((2, 2)),\n",
        "    Conv2D(64, (3, 3), activation='relu'),\n",
        "    MaxPooling2D((2, 2)),\n",
        "    Conv2D(128, (3, 3), activation='relu'),\n",
        "    MaxPooling2D((2, 2)),\n",
        "    Flatten(),\n",
        "    Dense(128, activation='relu'),\n",
        "    Dense(num_classes, activation='softmax')\n",
        "])\n",
        "\n",
        "# Compile the model\n",
        "model.compile(\n",
        "    optimizer='adam',\n",
        "    loss='categorical_crossentropy',\n",
        "    metrics=['accuracy']\n",
        ")\n",
        "\n",
        "# Calculate steps_per_epoch ensuring it's at least 1\n",
        "steps_per_epoch = max(1, train_generator.samples // batch_size)\n",
        "\n",
        "# Train the model\n",
        "history=model.fit(\n",
        "    train_generator,\n",
        "    steps_per_epoch=steps_per_epoch,\n",
        "    epochs=10,\n",
        "    validation_data=test_generator,\n",
        "    validation_steps=test_generator.samples\n",
        ")\n",
        "\n",
        "# Evaluate the model\n",
        "test_loss, test_acc = model.evaluate(test_generator, verbose=2)\n",
        "print(\"\\nTest accuracy:\", test_acc)"
      ],
      "metadata": {
        "colab": {
          "base_uri": "https://localhost:8080/"
        },
        "id": "Y4LT7XKGMwTH",
        "outputId": "4a4c2e2b-e0c8-40a9-8fc9-80bf89c4ebbe"
      },
      "execution_count": 23,
      "outputs": [
        {
          "output_type": "stream",
          "name": "stdout",
          "text": [
            "Found 180 images belonging to 4 classes.\n",
            "Number of images found in training directory: 180\n",
            "Found 20 images belonging to 4 classes.\n",
            "Number of classes: 4\n",
            "Epoch 1/10\n",
            "5/5 [==============================] - ETA: 0s - loss: 1.8040 - accuracy: 0.2297"
          ]
        },
        {
          "output_type": "stream",
          "name": "stderr",
          "text": [
            "WARNING:tensorflow:Your input ran out of data; interrupting training. Make sure that your dataset or generator can generate at least `steps_per_epoch * epochs` batches (in this case, 20 batches). You may need to use the repeat() function when building your dataset.\n"
          ]
        },
        {
          "output_type": "stream",
          "name": "stdout",
          "text": [
            "\b\b\b\b\b\b\b\b\b\b\b\b\b\b\b\b\b\b\b\b\b\b\b\b\b\b\b\b\b\b\b\b\b\b\b\b\b\b\b\b\b\b\b\b\b\b\b\b\b\b\b\b\b\b\b\b\b\b\b\b\b\b\b\b\b\b\b\b\b\b\b\b\b\b\b\b\b\b\b\b\r5/5 [==============================] - 5s 560ms/step - loss: 1.8040 - accuracy: 0.2297 - val_loss: 1.3973 - val_accuracy: 0.3500\n",
            "Epoch 2/10\n",
            "5/5 [==============================] - 2s 429ms/step - loss: 1.3956 - accuracy: 0.2635\n",
            "Epoch 3/10\n",
            "5/5 [==============================] - 3s 645ms/step - loss: 1.3728 - accuracy: 0.3649\n",
            "Epoch 4/10\n",
            "5/5 [==============================] - 3s 568ms/step - loss: 1.3528 - accuracy: 0.2973\n",
            "Epoch 5/10\n",
            "5/5 [==============================] - 2s 457ms/step - loss: 1.3097 - accuracy: 0.3581\n",
            "Epoch 6/10\n",
            "5/5 [==============================] - 3s 542ms/step - loss: 1.2084 - accuracy: 0.5135\n",
            "Epoch 7/10\n",
            "5/5 [==============================] - 3s 667ms/step - loss: 1.1584 - accuracy: 0.4932\n",
            "Epoch 8/10\n",
            "5/5 [==============================] - 3s 487ms/step - loss: 0.8987 - accuracy: 0.7000\n",
            "Epoch 9/10\n",
            "5/5 [==============================] - 3s 521ms/step - loss: 0.8437 - accuracy: 0.6622\n",
            "Epoch 10/10\n",
            "5/5 [==============================] - 3s 543ms/step - loss: 0.6912 - accuracy: 0.7432\n",
            "1/1 - 0s - loss: 1.2161 - accuracy: 0.6000 - 423ms/epoch - 423ms/step\n",
            "\n",
            "Test accuracy: 0.6000000238418579\n"
          ]
        }
      ]
    },
    {
      "cell_type": "code",
      "source": [
        "# Compute classification report\n",
        "from sklearn.metrics import classification_report\n",
        "class_names = list(test_generator.class_indices.keys())\n",
        "report = classification_report(y_true, y_pred_classes, target_names=class_names)\n",
        "print(\"\\nClassification Report:\")\n",
        "print(report)"
      ],
      "metadata": {
        "colab": {
          "base_uri": "https://localhost:8080/"
        },
        "id": "VfDNMHUPjHE7",
        "outputId": "270e7d18-7a74-4885-b227-14c85334dca8"
      },
      "execution_count": 24,
      "outputs": [
        {
          "output_type": "stream",
          "name": "stdout",
          "text": [
            "\n",
            "Classification Report:\n",
            "                      precision    recall  f1-score   support\n",
            "\n",
            "     Affenhuahua dog       0.17      0.20      0.18         5\n",
            "     Afgan Hound dog       0.00      0.00      0.00         5\n",
            "           Akita dog       0.33      0.40      0.36         5\n",
            "Alaskan Malamute dog       0.43      0.60      0.50         5\n",
            "\n",
            "            accuracy                           0.30        20\n",
            "           macro avg       0.23      0.30      0.26        20\n",
            "        weighted avg       0.23      0.30      0.26        20\n",
            "\n"
          ]
        }
      ]
    },
    {
      "cell_type": "code",
      "source": [
        "from sklearn.metrics import  confusion_matrix\n",
        "y_pred = model.predict(test_generator)\n",
        "y_pred_classes = np.argmax(y_pred, axis=1)\n",
        "y_true = test_generator.classes\n",
        "\n",
        "# Compute confusion matrix\n",
        "import seaborn as sns\n",
        "import matplotlib.pyplot as plt\n",
        "\n",
        "conf_mat = confusion_matrix(y_true, y_pred_classes)\n",
        "sns.heatmap(conf_mat, annot=True, cmap=\"Blues\")\n",
        "plt.title('Confusion Matrix')\n",
        "plt.xlabel('Predicted labels')\n",
        "plt.ylabel('True labels')\n",
        "plt.show()\n",
        "print(\"\\nConfusion Matrix:\")\n",
        "print(conf_mat)\n",
        "\n"
      ],
      "metadata": {
        "colab": {
          "base_uri": "https://localhost:8080/",
          "height": 593
        },
        "id": "iF-DDSQvkiAE",
        "outputId": "ff2c8cfd-edbd-4262-eed2-6637b16f2757"
      },
      "execution_count": 25,
      "outputs": [
        {
          "output_type": "stream",
          "name": "stdout",
          "text": [
            "1/1 [==============================] - 1s 507ms/step\n"
          ]
        },
        {
          "output_type": "display_data",
          "data": {
            "text/plain": [
              "<Figure size 640x480 with 2 Axes>"
            ],
            "image/png": "[encoded data removed]"
          },
          "metadata": {}
        },
        {
          "output_type": "stream",
          "name": "stdout",
          "text": [
            "\n",
            "Confusion Matrix:\n",
            "[[4 0 0 1]\n",
            " [1 0 1 3]\n",
            " [1 0 1 3]\n",
            " [1 1 1 2]]\n"
          ]
        }
      ]
    },
    {
      "cell_type": "code",
      "source": [
        "import numpy as np\n",
        "from tensorflow.keras.preprocessing import image\n",
        "\n",
        "# Path to your single image\n",
        "image_path = '/content/drive/MyDrive/google collllab/Dog Breed Dataset/Train/Affenhuahua dog/Image_1.jpg'\n",
        "\n",
        "# Load and preprocess the image\n",
        "img = image.load_img(image_path, target_size=(img_height, img_width))\n",
        "img_array = image.img_to_array(img) / 255.\n",
        "img_array = np.expand_dims(img_array, axis=0)\n",
        "\n",
        "# Make prediction\n",
        "predicted_class = np.argmax(model.predict(img_array))\n",
        "\n",
        "# Get the class label\n",
        "predicted_label = list(train_generator.class_indices.keys())[predicted_class]\n",
        "\n",
        "print(\"Predicted class:\", predicted_label)\n"
      ],
      "metadata": {
        "colab": {
          "base_uri": "https://localhost:8080/"
        },
        "id": "dlP7W1bajH4j",
        "outputId": "2f476447-5489-4351-a331-bac541d58ed8"
      },
      "execution_count": 26,
      "outputs": [
        {
          "output_type": "stream",
          "name": "stderr",
          "text": [
            "WARNING:tensorflow:5 out of the last 10 calls to <function Model.make_predict_function.<locals>.predict_function at 0x7aaadfd7bf40> triggered tf.function retracing. Tracing is expensive and the excessive number of tracings could be due to (1) creating @tf.function repeatedly in a loop, (2) passing tensors with different shapes, (3) passing Python objects instead of tensors. For (1), please define your @tf.function outside of the loop. For (2), @tf.function has reduce_retracing=True option that can avoid unnecessary retracing. For (3), please refer to https://www.tensorflow.org/guide/function#controlling_retracing and https://www.tensorflow.org/api_docs/python/tf/function for  more details.\n"
          ]
        },
        {
          "output_type": "stream",
          "name": "stdout",
          "text": [
            "1/1 [==============================] - 0s 321ms/step\n",
            "Predicted class: Affenhuahua dog\n"
          ]
        }
      ]
    }
  ]
}