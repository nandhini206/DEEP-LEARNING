{
  "nbformat": 4,
  "nbformat_minor": 0,
  "metadata": {
    "colab": {
      "provenance": [],
      "gpuType": "T4"
    },
    "kernelspec": {
      "name": "python3",
      "display_name": "Python 3"
    },
    "language_info": {
      "name": "python"
    },
    "accelerator": "GPU"
  },
  "cells": [
    {
      "cell_type": "code",
      "execution_count": 1,
      "metadata": {
        "id": "jQiTLw7ks15r"
      },
      "outputs": [],
      "source": [
        "import os\n",
        "import numpy as np\n",
        "from keras.preprocessing.image import ImageDataGenerator\n",
        "from keras.models import Sequential\n",
        "from keras.layers import Conv2D, MaxPooling2D, Flatten, Dense"
      ]
    },
    {
      "cell_type": "code",
      "source": [
        "train_dir ='/content/drive/MyDrive/google collllab/Monkey Breed Dataset/train'\n",
        "test_dir ='/content/drive/MyDrive/google collllab/Monkey Breed Dataset/testing'"
      ],
      "metadata": {
        "id": "Hm8XBH-6uBF0"
      },
      "execution_count": 2,
      "outputs": []
    },
    {
      "cell_type": "code",
      "source": [
        "\n",
        "# Parameters\n",
        "batch_size = 32\n",
        "img_height = 150\n",
        "img_width = 150\n",
        "\n",
        "# Create ImageDataGenerator for data augmentation and preprocessing\n",
        "train_datagen = ImageDataGenerator(\n",
        "    rescale=1./255,\n",
        "    shear_range=0.2,\n",
        "    zoom_range=0.2,\n",
        "    horizontal_flip=True\n",
        ")\n",
        "\n",
        "test_datagen = ImageDataGenerator(rescale=1./255)\n",
        "\n",
        "# Load and prepare training data\n",
        "train_generator = train_datagen.flow_from_directory(\n",
        "    train_dir,\n",
        "    target_size=(img_height, img_width),\n",
        "    batch_size=batch_size,\n",
        "    class_mode='categorical'\n",
        ")\n",
        "\n",
        "# Load and prepare test data\n",
        "test_generator = test_datagen.flow_from_directory(\n",
        "    test_dir,\n",
        "    target_size=(img_height, img_width),\n",
        "    batch_size=batch_size,\n",
        "    class_mode='categorical'\n",
        ")\n",
        "\n",
        "# Print out the number of classes found\n",
        "num_classes = len(train_generator.class_indices)\n",
        "print(\"Number of classes:\", num_classes)\n",
        "\n",
        "# Build the CNN model\n",
        "model = Sequential([\n",
        "    Conv2D(32, (3, 3), activation='relu', input_shape=(img_height, img_width, 3)),\n",
        "    MaxPooling2D((2, 2)),\n",
        "    Conv2D(64, (3, 3), activation='relu'),\n",
        "    MaxPooling2D((2, 2)),\n",
        "    Conv2D(128, (3, 3), activation='relu'),\n",
        "    MaxPooling2D((2, 2)),\n",
        "    Flatten(),\n",
        "    Dense(128, activation='relu'),\n",
        "    Dense(num_classes, activation='softmax')\n",
        "])\n",
        "\n",
        "# Compile the model\n",
        "model.compile(\n",
        "    optimizer='adam',\n",
        "    loss='categorical_crossentropy',\n",
        "    metrics=['accuracy']\n",
        ")\n",
        "\n",
        "# Calculate steps_per_epoch ensuring it's at least 1\n",
        "steps_per_epoch = max(1, train_generator.samples // batch_size)\n",
        "\n",
        "# Train the model\n",
        "history=model.fit(\n",
        "    train_generator,\n",
        "    steps_per_epoch=steps_per_epoch,\n",
        "    epochs=25,\n",
        "    validation_data=test_generator,\n",
        "    validation_steps=test_generator.samples\n",
        ")\n",
        "\n",
        "# Evaluate the model\n",
        "test_loss, test_acc = model.evaluate(test_generator, verbose=2)\n",
        "print(\"\\nTest accuracy:\", test_acc)"
      ],
      "metadata": {
        "colab": {
          "base_uri": "https://localhost:8080/"
        },
        "id": "5tSfwYlLuBHr",
        "outputId": "a468cf19-8366-4b66-ade8-f08e72629b90"
      },
      "execution_count": 7,
      "outputs": [
        {
          "output_type": "stream",
          "name": "stdout",
          "text": [
            "Found 60 images belonging to 3 classes.\n",
            "Found 6 images belonging to 3 classes.\n",
            "Number of classes: 3\n",
            "Epoch 1/25\n",
            "1/1 [==============================] - ETA: 0s - loss: 1.1146 - accuracy: 0.2812"
          ]
        },
        {
          "output_type": "stream",
          "name": "stderr",
          "text": [
            "WARNING:tensorflow:5 out of the last 6 calls to <function Model.make_test_function.<locals>.test_function at 0x7acc6ef3a830> triggered tf.function retracing. Tracing is expensive and the excessive number of tracings could be due to (1) creating @tf.function repeatedly in a loop, (2) passing tensors with different shapes, (3) passing Python objects instead of tensors. For (1), please define your @tf.function outside of the loop. For (2), @tf.function has reduce_retracing=True option that can avoid unnecessary retracing. For (3), please refer to https://www.tensorflow.org/guide/function#controlling_retracing and https://www.tensorflow.org/api_docs/python/tf/function for  more details.\n",
            "WARNING:tensorflow:Your input ran out of data; interrupting training. Make sure that your dataset or generator can generate at least `steps_per_epoch * epochs` batches (in this case, 6 batches). You may need to use the repeat() function when building your dataset.\n"
          ]
        },
        {
          "output_type": "stream",
          "name": "stdout",
          "text": [
            "\b\b\b\b\b\b\b\b\b\b\b\b\b\b\b\b\b\b\b\b\b\b\b\b\b\b\b\b\b\b\b\b\b\b\b\b\b\b\b\b\b\b\b\b\b\b\b\b\b\b\b\b\b\b\b\b\b\b\b\b\b\b\b\b\b\b\b\b\b\b\b\b\b\b\b\b\b\b\b\b\r1/1 [==============================] - 55s 55s/step - loss: 1.1146 - accuracy: 0.2812 - val_loss: 3.8476 - val_accuracy: 0.3333\n",
            "Epoch 2/25\n",
            "1/1 [==============================] - 1s 992ms/step - loss: 3.3727 - accuracy: 0.4286\n",
            "Epoch 3/25\n",
            "1/1 [==============================] - 1s 820ms/step - loss: 1.1099 - accuracy: 0.3750\n",
            "Epoch 4/25\n",
            "1/1 [==============================] - 1s 791ms/step - loss: 1.2506 - accuracy: 0.2500\n",
            "Epoch 5/25\n",
            "1/1 [==============================] - 1s 673ms/step - loss: 1.0259 - accuracy: 0.5357\n",
            "Epoch 6/25\n",
            "1/1 [==============================] - 1s 838ms/step - loss: 1.0379 - accuracy: 0.3929\n",
            "Epoch 7/25\n",
            "1/1 [==============================] - 1s 694ms/step - loss: 1.0701 - accuracy: 0.2500\n",
            "Epoch 8/25\n",
            "1/1 [==============================] - 1s 595ms/step - loss: 1.0275 - accuracy: 0.4062\n",
            "Epoch 9/25\n",
            "1/1 [==============================] - 1s 738ms/step - loss: 0.9888 - accuracy: 0.6429\n",
            "Epoch 10/25\n",
            "1/1 [==============================] - 1s 1s/step - loss: 0.9337 - accuracy: 0.8438\n",
            "Epoch 11/25\n",
            "1/1 [==============================] - 1s 784ms/step - loss: 0.8798 - accuracy: 0.7500\n",
            "Epoch 12/25\n",
            "1/1 [==============================] - 1s 805ms/step - loss: 0.8158 - accuracy: 0.8125\n",
            "Epoch 13/25\n",
            "1/1 [==============================] - 1s 803ms/step - loss: 0.7785 - accuracy: 0.6071\n",
            "Epoch 14/25\n",
            "1/1 [==============================] - 1s 642ms/step - loss: 0.6840 - accuracy: 0.6562\n",
            "Epoch 15/25\n",
            "1/1 [==============================] - 1s 643ms/step - loss: 0.6005 - accuracy: 0.8214\n",
            "Epoch 16/25\n",
            "1/1 [==============================] - 1s 938ms/step - loss: 0.7204 - accuracy: 0.6250\n",
            "Epoch 17/25\n",
            "1/1 [==============================] - 1s 661ms/step - loss: 0.4849 - accuracy: 0.8214\n",
            "Epoch 18/25\n",
            "1/1 [==============================] - 1s 1s/step - loss: 0.4913 - accuracy: 0.8214\n",
            "Epoch 19/25\n",
            "1/1 [==============================] - 1s 1s/step - loss: 0.5551 - accuracy: 0.7857\n",
            "Epoch 20/25\n",
            "1/1 [==============================] - 1s 653ms/step - loss: 0.4664 - accuracy: 0.8125\n",
            "Epoch 21/25\n",
            "1/1 [==============================] - 1s 963ms/step - loss: 0.3563 - accuracy: 0.9375\n",
            "Epoch 22/25\n",
            "1/1 [==============================] - 1s 685ms/step - loss: 0.2638 - accuracy: 0.9062\n",
            "Epoch 23/25\n",
            "1/1 [==============================] - 1s 852ms/step - loss: 0.4694 - accuracy: 0.8438\n",
            "Epoch 24/25\n",
            "1/1 [==============================] - 1s 591ms/step - loss: 0.3239 - accuracy: 0.9062\n",
            "Epoch 25/25\n",
            "1/1 [==============================] - 1s 847ms/step - loss: 0.1959 - accuracy: 0.9643\n",
            "1/1 - 0s - loss: 1.1573 - accuracy: 0.6667 - 85ms/epoch - 85ms/step\n",
            "\n",
            "Test accuracy: 0.6666666865348816\n"
          ]
        }
      ]
    },
    {
      "cell_type": "code",
      "source": [
        "from sklearn.metrics import classification_report\n",
        "\n",
        "# Predict the test data\n",
        "y_pred = model.predict(test_generator)\n",
        "y_pred_classes = np.argmax(y_pred, axis=1)\n",
        "y_true = test_generator.classes\n",
        "\n",
        "# Compute classification report\n",
        "class_names = list(test_generator.class_indices.keys())\n",
        "report = classification_report(y_true, y_pred_classes, target_names=class_names)\n",
        "print(\"\\nClassification Report:\")\n",
        "print(report)\n"
      ],
      "metadata": {
        "colab": {
          "base_uri": "https://localhost:8080/"
        },
        "id": "hN1h23RkuBKE",
        "outputId": "5d9a3046-53ca-42bd-c292-fe2f14aefc79"
      },
      "execution_count": 10,
      "outputs": [
        {
          "output_type": "stream",
          "name": "stdout",
          "text": [
            "1/1 [==============================] - 0s 293ms/step\n",
            "\n",
            "Classification Report:\n",
            "              precision    recall  f1-score   support\n",
            "\n",
            "          m0       1.00      0.50      0.67         2\n",
            "          m1       0.00      0.00      0.00         2\n",
            "          m2       0.25      0.50      0.33         2\n",
            "\n",
            "    accuracy                           0.33         6\n",
            "   macro avg       0.42      0.33      0.33         6\n",
            "weighted avg       0.42      0.33      0.33         6\n",
            "\n"
          ]
        }
      ]
    },
    {
      "cell_type": "code",
      "source": [
        "\n",
        "# Compute confusion matrix\n",
        "import seaborn as sns\n",
        "import matplotlib.pyplot as plt\n",
        "from sklearn.metrics import  confusion_matrix\n",
        "\n",
        "\n",
        "conf_mat = confusion_matrix(y_true, y_pred_classes)\n",
        "sns.heatmap(conf_mat, annot=True, cmap=\"Blues\")\n",
        "plt.title('Confusion Matrix')\n",
        "plt.xlabel('Predicted labels')\n",
        "plt.ylabel('True labels')\n",
        "plt.show()\n",
        "print(\"\\nConfusion Matrix:\")\n",
        "print(conf_mat)\n",
        "\n"
      ],
      "metadata": {
        "colab": {
          "base_uri": "https://localhost:8080/",
          "height": 559
        },
        "id": "-f5Xksvmv2kW",
        "outputId": "21531add-4770-47b6-c626-7defe07d21bf"
      },
      "execution_count": 12,
      "outputs": [
        {
          "output_type": "display_data",
          "data": {
            "text/plain": [
              "<Figure size 640x480 with 2 Axes>"
            ],
            "image/png": "[encoded data removed]"
          },
          "metadata": {}
        },
        {
          "output_type": "stream",
          "name": "stdout",
          "text": [
            "\n",
            "Confusion Matrix:\n",
            "[[1 0 1]\n",
            " [0 0 2]\n",
            " [0 1 1]]\n"
          ]
        }
      ]
    },
    {
      "cell_type": "code",
      "source": [
        "import numpy as np\n",
        "from tensorflow.keras.preprocessing import image\n",
        "\n",
        "# Path to your single image\n",
        "image_path = '/content/drive/MyDrive/google collllab/Monkey Breed Dataset/train/m0/n1017.jpg'\n",
        "\n",
        "# Load and preprocess the image\n",
        "img = image.load_img(image_path, target_size=(img_height, img_width))\n",
        "img_array = image.img_to_array(img) / 255.\n",
        "img_array = np.expand_dims(img_array, axis=0)\n",
        "\n",
        "# Make prediction\n",
        "predicted_class = np.argmax(model.predict(img_array))\n",
        "\n",
        "# Get the class label\n",
        "predicted_label = list(train_generator.class_indices.keys())[predicted_class]\n",
        "\n",
        "print(\"Predicted class:\", predicted_label)\n"
      ],
      "metadata": {
        "colab": {
          "base_uri": "https://localhost:8080/"
        },
        "id": "ur5qlMLIuM-1",
        "outputId": "443687f7-c575-40fe-9ec0-4243718eb5bf"
      },
      "execution_count": 14,
      "outputs": [
        {
          "output_type": "stream",
          "name": "stdout",
          "text": [
            "1/1 [==============================] - 0s 69ms/step\n",
            "Predicted class: m0\n"
          ]
        }
      ]
    }
  ]
}