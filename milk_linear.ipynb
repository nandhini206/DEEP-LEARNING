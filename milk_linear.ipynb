{
  "nbformat": 4,
  "nbformat_minor": 0,
  "metadata": {
    "colab": {
      "provenance": [],
      "gpuType": "T4"
    },
    "kernelspec": {
      "name": "python3",
      "display_name": "Python 3"
    },
    "language_info": {
      "name": "python"
    },
    "accelerator": "GPU"
  },
  "cells": [
    {
      "cell_type": "code",
      "execution_count": 19,
      "metadata": {
        "id": "QG9GQ_cIgZqm"
      },
      "outputs": [],
      "source": [
        "import numpy as np\n",
        "import pandas as pd\n",
        "from sklearn.model_selection import train_test_split\n",
        "from sklearn.preprocessing import StandardScaler,LabelEncoder"
      ]
    },
    {
      "cell_type": "code",
      "source": [
        "df=pd.read_csv('/content/monthly_milk_production.csv')\n",
        "df.head()"
      ],
      "metadata": {
        "colab": {
          "base_uri": "https://localhost:8080/",
          "height": 206
        },
        "id": "wIuHqqYmga6l",
        "outputId": "e192c3a3-cd32-4c9b-ed29-9b9432b1f255"
      },
      "execution_count": 20,
      "outputs": [
        {
          "output_type": "execute_result",
          "data": {
            "text/plain": [
              "      Date  Production\n",
              "0  1962-01         589\n",
              "1  1962-02         561\n",
              "2  1962-03         640\n",
              "3  1962-04         656\n",
              "4  1962-05         727"
            ],
            "text/html": [
              "\n",
              "  <div id=\"df-e06060b3-55ec-4961-a694-b3dd13eec7a4\" class=\"colab-df-container\">\n",
              "    <div>\n",
              "<style scoped>\n",
              "    .dataframe tbody tr th:only-of-type {\n",
              "        vertical-align: middle;\n",
              "    }\n",
              "\n",
              "    .dataframe tbody tr th {\n",
              "        vertical-align: top;\n",
              "    }\n",
              "\n",
              "    .dataframe thead th {\n",
              "        text-align: right;\n",
              "    }\n",
              "</style>\n",
              "<table border=\"1\" class=\"dataframe\">\n",
              "  <thead>\n",
              "    <tr style=\"text-align: right;\">\n",
              "      <th></th>\n",
              "      <th>Date</th>\n",
              "      <th>Production</th>\n",
              "    </tr>\n",
              "  </thead>\n",
              "  <tbody>\n",
              "    <tr>\n",
              "      <th>0</th>\n",
              "      <td>1962-01</td>\n",
              "      <td>589</td>\n",
              "    </tr>\n",
              "    <tr>\n",
              "      <th>1</th>\n",
              "      <td>1962-02</td>\n",
              "      <td>561</td>\n",
              "    </tr>\n",
              "    <tr>\n",
              "      <th>2</th>\n",
              "      <td>1962-03</td>\n",
              "      <td>640</td>\n",
              "    </tr>\n",
              "    <tr>\n",
              "      <th>3</th>\n",
              "      <td>1962-04</td>\n",
              "      <td>656</td>\n",
              "    </tr>\n",
              "    <tr>\n",
              "      <th>4</th>\n",
              "      <td>1962-05</td>\n",
              "      <td>727</td>\n",
              "    </tr>\n",
              "  </tbody>\n",
              "</table>\n",
              "</div>\n",
              "    <div class=\"colab-df-buttons\">\n",
              "\n",
              "  <div class=\"colab-df-container\">\n",
              "    <button class=\"colab-df-convert\" onclick=\"convertToInteractive('df-e06060b3-55ec-4961-a694-b3dd13eec7a4')\"\n",
              "            title=\"Convert this dataframe to an interactive table.\"\n",
              "            style=\"display:none;\">\n",
              "\n",
              "  <svg xmlns=\"http://www.w3.org/2000/svg\" height=\"24px\" viewBox=\"0 -960 960 960\">\n",
              "    <path d=\"M120-120v-720h720v720H120Zm60-500h600v-160H180v160Zm220 220h160v-160H400v160Zm0 220h160v-160H400v160ZM180-400h160v-160H180v160Zm440 0h160v-160H620v160ZM180-180h160v-160H180v160Zm440 0h160v-160H620v160Z\"/>\n",
              "  </svg>\n",
              "    </button>\n",
              "\n",
              "  <style>\n",
              "    .colab-df-container {\n",
              "      display:flex;\n",
              "      gap: 12px;\n",
              "    }\n",
              "\n",
              "    .colab-df-convert {\n",
              "      background-color: #E8F0FE;\n",
              "      border: none;\n",
              "      border-radius: 50%;\n",
              "      cursor: pointer;\n",
              "      display: none;\n",
              "      fill: #1967D2;\n",
              "      height: 32px;\n",
              "      padding: 0 0 0 0;\n",
              "      width: 32px;\n",
              "    }\n",
              "\n",
              "    .colab-df-convert:hover {\n",
              "      background-color: #E2EBFA;\n",
              "      box-shadow: 0px 1px 2px rgba(60, 64, 67, 0.3), 0px 1px 3px 1px rgba(60, 64, 67, 0.15);\n",
              "      fill: #174EA6;\n",
              "    }\n",
              "\n",
              "    .colab-df-buttons div {\n",
              "      margin-bottom: 4px;\n",
              "    }\n",
              "\n",
              "    [theme=dark] .colab-df-convert {\n",
              "      background-color: #3B4455;\n",
              "      fill: #D2E3FC;\n",
              "    }\n",
              "\n",
              "    [theme=dark] .colab-df-convert:hover {\n",
              "      background-color: #434B5C;\n",
              "      box-shadow: 0px 1px 3px 1px rgba(0, 0, 0, 0.15);\n",
              "      filter: drop-shadow(0px 1px 2px rgba(0, 0, 0, 0.3));\n",
              "      fill: #FFFFFF;\n",
              "    }\n",
              "  </style>\n",
              "\n",
              "    <script>\n",
              "      const buttonEl =\n",
              "        document.querySelector('#df-e06060b3-55ec-4961-a694-b3dd13eec7a4 button.colab-df-convert');\n",
              "      buttonEl.style.display =\n",
              "        google.colab.kernel.accessAllowed ? 'block' : 'none';\n",
              "\n",
              "      async function convertToInteractive(key) {\n",
              "        const element = document.querySelector('#df-e06060b3-55ec-4961-a694-b3dd13eec7a4');\n",
              "        const dataTable =\n",
              "          await google.colab.kernel.invokeFunction('convertToInteractive',\n",
              "                                                    [key], {});\n",
              "        if (!dataTable) return;\n",
              "\n",
              "        const docLinkHtml = 'Like what you see? Visit the ' +\n",
              "          '<a target=\"_blank\" href=https://colab.research.google.com/notebooks/data_table.ipynb>data table notebook</a>'\n",
              "          + ' to learn more about interactive tables.';\n",
              "        element.innerHTML = '';\n",
              "        dataTable['output_type'] = 'display_data';\n",
              "        await google.colab.output.renderOutput(dataTable, element);\n",
              "        const docLink = document.createElement('div');\n",
              "        docLink.innerHTML = docLinkHtml;\n",
              "        element.appendChild(docLink);\n",
              "      }\n",
              "    </script>\n",
              "  </div>\n",
              "\n",
              "\n",
              "<div id=\"df-6e26db18-8f0b-416c-9910-27cc941fc855\">\n",
              "  <button class=\"colab-df-quickchart\" onclick=\"quickchart('df-6e26db18-8f0b-416c-9910-27cc941fc855')\"\n",
              "            title=\"Suggest charts\"\n",
              "            style=\"display:none;\">\n",
              "\n",
              "<svg xmlns=\"http://www.w3.org/2000/svg\" height=\"24px\"viewBox=\"0 0 24 24\"\n",
              "     width=\"24px\">\n",
              "    <g>\n",
              "        <path d=\"M19 3H5c-1.1 0-2 .9-2 2v14c0 1.1.9 2 2 2h14c1.1 0 2-.9 2-2V5c0-1.1-.9-2-2-2zM9 17H7v-7h2v7zm4 0h-2V7h2v10zm4 0h-2v-4h2v4z\"/>\n",
              "    </g>\n",
              "</svg>\n",
              "  </button>\n",
              "\n",
              "<style>\n",
              "  .colab-df-quickchart {\n",
              "      --bg-color: #E8F0FE;\n",
              "      --fill-color: #1967D2;\n",
              "      --hover-bg-color: #E2EBFA;\n",
              "      --hover-fill-color: #174EA6;\n",
              "      --disabled-fill-color: #AAA;\n",
              "      --disabled-bg-color: #DDD;\n",
              "  }\n",
              "\n",
              "  [theme=dark] .colab-df-quickchart {\n",
              "      --bg-color: #3B4455;\n",
              "      --fill-color: #D2E3FC;\n",
              "      --hover-bg-color: #434B5C;\n",
              "      --hover-fill-color: #FFFFFF;\n",
              "      --disabled-bg-color: #3B4455;\n",
              "      --disabled-fill-color: #666;\n",
              "  }\n",
              "\n",
              "  .colab-df-quickchart {\n",
              "    background-color: var(--bg-color);\n",
              "    border: none;\n",
              "    border-radius: 50%;\n",
              "    cursor: pointer;\n",
              "    display: none;\n",
              "    fill: var(--fill-color);\n",
              "    height: 32px;\n",
              "    padding: 0;\n",
              "    width: 32px;\n",
              "  }\n",
              "\n",
              "  .colab-df-quickchart:hover {\n",
              "    background-color: var(--hover-bg-color);\n",
              "    box-shadow: 0 1px 2px rgba(60, 64, 67, 0.3), 0 1px 3px 1px rgba(60, 64, 67, 0.15);\n",
              "    fill: var(--button-hover-fill-color);\n",
              "  }\n",
              "\n",
              "  .colab-df-quickchart-complete:disabled,\n",
              "  .colab-df-quickchart-complete:disabled:hover {\n",
              "    background-color: var(--disabled-bg-color);\n",
              "    fill: var(--disabled-fill-color);\n",
              "    box-shadow: none;\n",
              "  }\n",
              "\n",
              "  .colab-df-spinner {\n",
              "    border: 2px solid var(--fill-color);\n",
              "    border-color: transparent;\n",
              "    border-bottom-color: var(--fill-color);\n",
              "    animation:\n",
              "      spin 1s steps(1) infinite;\n",
              "  }\n",
              "\n",
              "  @keyframes spin {\n",
              "    0% {\n",
              "      border-color: transparent;\n",
              "      border-bottom-color: var(--fill-color);\n",
              "      border-left-color: var(--fill-color);\n",
              "    }\n",
              "    20% {\n",
              "      border-color: transparent;\n",
              "      border-left-color: var(--fill-color);\n",
              "      border-top-color: var(--fill-color);\n",
              "    }\n",
              "    30% {\n",
              "      border-color: transparent;\n",
              "      border-left-color: var(--fill-color);\n",
              "      border-top-color: var(--fill-color);\n",
              "      border-right-color: var(--fill-color);\n",
              "    }\n",
              "    40% {\n",
              "      border-color: transparent;\n",
              "      border-right-color: var(--fill-color);\n",
              "      border-top-color: var(--fill-color);\n",
              "    }\n",
              "    60% {\n",
              "      border-color: transparent;\n",
              "      border-right-color: var(--fill-color);\n",
              "    }\n",
              "    80% {\n",
              "      border-color: transparent;\n",
              "      border-right-color: var(--fill-color);\n",
              "      border-bottom-color: var(--fill-color);\n",
              "    }\n",
              "    90% {\n",
              "      border-color: transparent;\n",
              "      border-bottom-color: var(--fill-color);\n",
              "    }\n",
              "  }\n",
              "</style>\n",
              "\n",
              "  <script>\n",
              "    async function quickchart(key) {\n",
              "      const quickchartButtonEl =\n",
              "        document.querySelector('#' + key + ' button');\n",
              "      quickchartButtonEl.disabled = true;  // To prevent multiple clicks.\n",
              "      quickchartButtonEl.classList.add('colab-df-spinner');\n",
              "      try {\n",
              "        const charts = await google.colab.kernel.invokeFunction(\n",
              "            'suggestCharts', [key], {});\n",
              "      } catch (error) {\n",
              "        console.error('Error during call to suggestCharts:', error);\n",
              "      }\n",
              "      quickchartButtonEl.classList.remove('colab-df-spinner');\n",
              "      quickchartButtonEl.classList.add('colab-df-quickchart-complete');\n",
              "    }\n",
              "    (() => {\n",
              "      let quickchartButtonEl =\n",
              "        document.querySelector('#df-6e26db18-8f0b-416c-9910-27cc941fc855 button');\n",
              "      quickchartButtonEl.style.display =\n",
              "        google.colab.kernel.accessAllowed ? 'block' : 'none';\n",
              "    })();\n",
              "  </script>\n",
              "</div>\n",
              "\n",
              "    </div>\n",
              "  </div>\n"
            ],
            "application/vnd.google.colaboratory.intrinsic+json": {
              "type": "dataframe",
              "variable_name": "df",
              "summary": "{\n  \"name\": \"df\",\n  \"rows\": 168,\n  \"fields\": [\n    {\n      \"column\": \"Date\",\n      \"properties\": {\n        \"dtype\": \"object\",\n        \"num_unique_values\": 168,\n        \"samples\": [\n          \"1973-06\",\n          \"1964-07\",\n          \"1971-12\"\n        ],\n        \"semantic_type\": \"\",\n        \"description\": \"\"\n      }\n    },\n    {\n      \"column\": \"Production\",\n      \"properties\": {\n        \"dtype\": \"number\",\n        \"std\": 102,\n        \"min\": 553,\n        \"max\": 969,\n        \"num_unique_values\": 142,\n        \"samples\": [\n          815,\n          583,\n          764\n        ],\n        \"semantic_type\": \"\",\n        \"description\": \"\"\n      }\n    }\n  ]\n}"
            }
          },
          "metadata": {},
          "execution_count": 20
        }
      ]
    },
    {
      "cell_type": "code",
      "source": [
        "X=df.iloc[:, :1]\n",
        "y=df.iloc[:, 1:]"
      ],
      "metadata": {
        "id": "yaW7MM1qga83"
      },
      "execution_count": 21,
      "outputs": []
    },
    {
      "cell_type": "code",
      "source": [
        "df['Date'] = pd.to_datetime(df['Date'])\n"
      ],
      "metadata": {
        "id": "woOCO14igbMw"
      },
      "execution_count": 22,
      "outputs": []
    },
    {
      "cell_type": "code",
      "source": [
        "# Convert 'Date' to a numerical attribute by calculating the number of months since the minimum date\n",
        "df['MonthsSince'] = (df['Date'] - df['Date'].min()) / np.timedelta64(1, 'M')\n",
        "df['MonthsSince'] = df['MonthsSince'].astype(int)"
      ],
      "metadata": {
        "id": "e_gJ48cVgbOz"
      },
      "execution_count": 23,
      "outputs": []
    },
    {
      "cell_type": "code",
      "source": [
        "# Select features and target variable\n",
        "X = df[['MonthsSince']]  # Features\n",
        "y = df['Production']  # Target variable"
      ],
      "metadata": {
        "id": "IB2ooUbOgbQb"
      },
      "execution_count": 24,
      "outputs": []
    },
    {
      "cell_type": "code",
      "source": [
        "# Split the data into training and testing sets\n",
        "X_train, X_test, y_train, y_test = train_test_split(X, y, test_size=0.3, random_state=42)\n",
        "\n",
        "# Normalize the features\n",
        "scaler = StandardScaler()\n",
        "X_train_scaled = scaler.fit_transform(X_train)\n",
        "X_test_scaled = scaler.transform(X_test)"
      ],
      "metadata": {
        "id": "9oEIaRElgbS2"
      },
      "execution_count": 25,
      "outputs": []
    },
    {
      "cell_type": "code",
      "source": [
        "from keras.models import Sequential\n",
        "from keras.layers import Dense\n",
        "# Build the ANN model\n",
        "model = Sequential()\n",
        "model.add(Dense(units=1, input_dim=X_train_scaled.shape[1], activation='linear'))\n"
      ],
      "metadata": {
        "id": "MSvDCCBSgbUy"
      },
      "execution_count": 27,
      "outputs": []
    },
    {
      "cell_type": "code",
      "source": [
        "# Compile the model\n",
        "model.compile(optimizer='adam', loss='mean_squared_error', metrics=['mean_squared_error'])\n"
      ],
      "metadata": {
        "id": "oPb2XN06kPGM"
      },
      "execution_count": 28,
      "outputs": []
    },
    {
      "cell_type": "code",
      "source": [
        "# Train the model\n",
        "model.fit(X_train_scaled, y_train, epochs=50, batch_size=10, verbose=1)\n"
      ],
      "metadata": {
        "colab": {
          "base_uri": "https://localhost:8080/"
        },
        "id": "zYJp9yhHgbZX",
        "outputId": "f49cb78f-2e54-49e2-9752-888da0a6819d"
      },
      "execution_count": 29,
      "outputs": [
        {
          "output_type": "stream",
          "name": "stdout",
          "text": [
            "Epoch 1/50\n",
            "12/12 [==============================] - 4s 3ms/step - loss: 579841.5000 - mean_squared_error: 579841.5000\n",
            "Epoch 2/50\n",
            "12/12 [==============================] - 0s 3ms/step - loss: 579822.3750 - mean_squared_error: 579822.3750\n",
            "Epoch 3/50\n",
            "12/12 [==============================] - 0s 3ms/step - loss: 579803.6875 - mean_squared_error: 579803.6875\n",
            "Epoch 4/50\n",
            "12/12 [==============================] - 0s 3ms/step - loss: 579784.8750 - mean_squared_error: 579784.8750\n",
            "Epoch 5/50\n",
            "12/12 [==============================] - 0s 3ms/step - loss: 579766.0000 - mean_squared_error: 579766.0000\n",
            "Epoch 6/50\n",
            "12/12 [==============================] - 0s 3ms/step - loss: 579747.3750 - mean_squared_error: 579747.4375\n",
            "Epoch 7/50\n",
            "12/12 [==============================] - 0s 3ms/step - loss: 579728.6875 - mean_squared_error: 579728.6875\n",
            "Epoch 8/50\n",
            "12/12 [==============================] - 0s 3ms/step - loss: 579709.8125 - mean_squared_error: 579709.8125\n",
            "Epoch 9/50\n",
            "12/12 [==============================] - 0s 3ms/step - loss: 579691.0625 - mean_squared_error: 579691.0625\n",
            "Epoch 10/50\n",
            "12/12 [==============================] - 0s 3ms/step - loss: 579672.7500 - mean_squared_error: 579672.7500\n",
            "Epoch 11/50\n",
            "12/12 [==============================] - 0s 3ms/step - loss: 579653.6250 - mean_squared_error: 579653.6250\n",
            "Epoch 12/50\n",
            "12/12 [==============================] - 0s 3ms/step - loss: 579635.1875 - mean_squared_error: 579635.1875\n",
            "Epoch 13/50\n",
            "12/12 [==============================] - 0s 2ms/step - loss: 579616.2500 - mean_squared_error: 579616.2500\n",
            "Epoch 14/50\n",
            "12/12 [==============================] - 0s 2ms/step - loss: 579597.2500 - mean_squared_error: 579597.2500\n",
            "Epoch 15/50\n",
            "12/12 [==============================] - 0s 3ms/step - loss: 579579.0625 - mean_squared_error: 579579.0625\n",
            "Epoch 16/50\n",
            "12/12 [==============================] - 0s 3ms/step - loss: 579559.8750 - mean_squared_error: 579559.8750\n",
            "Epoch 17/50\n",
            "12/12 [==============================] - 0s 3ms/step - loss: 579541.7500 - mean_squared_error: 579541.7500\n",
            "Epoch 18/50\n",
            "12/12 [==============================] - 0s 3ms/step - loss: 579522.5000 - mean_squared_error: 579522.5000\n",
            "Epoch 19/50\n",
            "12/12 [==============================] - 0s 3ms/step - loss: 579503.8750 - mean_squared_error: 579503.8750\n",
            "Epoch 20/50\n",
            "12/12 [==============================] - 0s 3ms/step - loss: 579485.6250 - mean_squared_error: 579485.6875\n",
            "Epoch 21/50\n",
            "12/12 [==============================] - 0s 3ms/step - loss: 579466.6250 - mean_squared_error: 579466.6250\n",
            "Epoch 22/50\n",
            "12/12 [==============================] - 0s 3ms/step - loss: 579448.0625 - mean_squared_error: 579448.0625\n",
            "Epoch 23/50\n",
            "12/12 [==============================] - 0s 3ms/step - loss: 579429.3125 - mean_squared_error: 579429.3125\n",
            "Epoch 24/50\n",
            "12/12 [==============================] - 0s 3ms/step - loss: 579411.0625 - mean_squared_error: 579411.0625\n",
            "Epoch 25/50\n",
            "12/12 [==============================] - 0s 3ms/step - loss: 579391.9375 - mean_squared_error: 579391.9375\n",
            "Epoch 26/50\n",
            "12/12 [==============================] - 0s 3ms/step - loss: 579373.2500 - mean_squared_error: 579373.2500\n",
            "Epoch 27/50\n",
            "12/12 [==============================] - 0s 3ms/step - loss: 579354.7500 - mean_squared_error: 579354.7500\n",
            "Epoch 28/50\n",
            "12/12 [==============================] - 0s 3ms/step - loss: 579336.1875 - mean_squared_error: 579336.1875\n",
            "Epoch 29/50\n",
            "12/12 [==============================] - 0s 3ms/step - loss: 579317.2500 - mean_squared_error: 579317.2500\n",
            "Epoch 30/50\n",
            "12/12 [==============================] - 0s 3ms/step - loss: 579298.8125 - mean_squared_error: 579298.8125\n",
            "Epoch 31/50\n",
            "12/12 [==============================] - 0s 3ms/step - loss: 579280.0625 - mean_squared_error: 579280.0625\n",
            "Epoch 32/50\n",
            "12/12 [==============================] - 0s 3ms/step - loss: 579261.6875 - mean_squared_error: 579261.6875\n",
            "Epoch 33/50\n",
            "12/12 [==============================] - 0s 3ms/step - loss: 579243.0000 - mean_squared_error: 579243.0000\n",
            "Epoch 34/50\n",
            "12/12 [==============================] - 0s 3ms/step - loss: 579223.7500 - mean_squared_error: 579223.7500\n",
            "Epoch 35/50\n",
            "12/12 [==============================] - 0s 3ms/step - loss: 579205.2500 - mean_squared_error: 579205.2500\n",
            "Epoch 36/50\n",
            "12/12 [==============================] - 0s 3ms/step - loss: 579186.6875 - mean_squared_error: 579186.6875\n",
            "Epoch 37/50\n",
            "12/12 [==============================] - 0s 3ms/step - loss: 579167.9375 - mean_squared_error: 579167.9375\n",
            "Epoch 38/50\n",
            "12/12 [==============================] - 0s 3ms/step - loss: 579149.1875 - mean_squared_error: 579149.1875\n",
            "Epoch 39/50\n",
            "12/12 [==============================] - 0s 2ms/step - loss: 579130.6875 - mean_squared_error: 579130.6875\n",
            "Epoch 40/50\n",
            "12/12 [==============================] - 0s 2ms/step - loss: 579111.9375 - mean_squared_error: 579111.9375\n",
            "Epoch 41/50\n",
            "12/12 [==============================] - 0s 2ms/step - loss: 579093.1875 - mean_squared_error: 579093.1875\n",
            "Epoch 42/50\n",
            "12/12 [==============================] - 0s 3ms/step - loss: 579074.5000 - mean_squared_error: 579074.5000\n",
            "Epoch 43/50\n",
            "12/12 [==============================] - 0s 3ms/step - loss: 579055.8750 - mean_squared_error: 579055.8750\n",
            "Epoch 44/50\n",
            "12/12 [==============================] - 0s 3ms/step - loss: 579037.5625 - mean_squared_error: 579037.5625\n",
            "Epoch 45/50\n",
            "12/12 [==============================] - 0s 3ms/step - loss: 579018.5000 - mean_squared_error: 579018.5000\n",
            "Epoch 46/50\n",
            "12/12 [==============================] - 0s 3ms/step - loss: 578999.7500 - mean_squared_error: 578999.7500\n",
            "Epoch 47/50\n",
            "12/12 [==============================] - 0s 3ms/step - loss: 578981.3750 - mean_squared_error: 578981.3750\n",
            "Epoch 48/50\n",
            "12/12 [==============================] - 0s 3ms/step - loss: 578962.3125 - mean_squared_error: 578962.3125\n",
            "Epoch 49/50\n",
            "12/12 [==============================] - 0s 3ms/step - loss: 578943.8750 - mean_squared_error: 578943.8750\n",
            "Epoch 50/50\n",
            "12/12 [==============================] - 0s 3ms/step - loss: 578925.3750 - mean_squared_error: 578925.3125\n"
          ]
        },
        {
          "output_type": "execute_result",
          "data": {
            "text/plain": [
              "<keras.src.callbacks.History at 0x7afccf7cdd20>"
            ]
          },
          "metadata": {},
          "execution_count": 29
        }
      ]
    },
    {
      "cell_type": "code",
      "source": [
        "# Evaluate the model\n",
        "mse = model.evaluate(X_test_scaled, y_test)\n",
        "print(\"Mean Squared Error on Test Set:\", mse)"
      ],
      "metadata": {
        "colab": {
          "base_uri": "https://localhost:8080/"
        },
        "id": "GdG8Dk_8gbbh",
        "outputId": "2aa9bb6d-be13-4f34-f563-150156417c20"
      },
      "execution_count": 30,
      "outputs": [
        {
          "output_type": "stream",
          "name": "stdout",
          "text": [
            "2/2 [==============================] - 0s 12ms/step - loss: 579367.1875 - mean_squared_error: 579367.1875\n",
            "Mean Squared Error on Test Set: [579367.1875, 579367.1875]\n"
          ]
        }
      ]
    },
    {
      "cell_type": "code",
      "source": [
        "from sklearn.metrics import r2_score\n",
        "X_pred=model.predict(X_test_scaled)\n",
        "X_pred"
      ],
      "metadata": {
        "colab": {
          "base_uri": "https://localhost:8080/"
        },
        "id": "id0D6XnigbfS",
        "outputId": "929b269b-7316-4eb5-b700-a58ab1cea454"
      },
      "execution_count": 33,
      "outputs": [
        {
          "output_type": "stream",
          "name": "stdout",
          "text": [
            "2/2 [==============================] - 0s 8ms/step\n"
          ]
        },
        {
          "output_type": "execute_result",
          "data": {
            "text/plain": [
              "array([[0.69713086],\n",
              "       [0.49699587],\n",
              "       [0.6634633 ],\n",
              "       [0.49512544],\n",
              "       [0.706483  ],\n",
              "       [0.74202096],\n",
              "       [0.7476322 ],\n",
              "       [0.5362747 ],\n",
              "       [0.6372774 ],\n",
              "       [0.5531085 ],\n",
              "       [0.46893954],\n",
              "       [0.7326689 ],\n",
              "       [0.6915196 ],\n",
              "       [0.5250522 ],\n",
              "       [0.56807184],\n",
              "       [0.6017394 ],\n",
              "       [0.48577335],\n",
              "       [0.6466295 ],\n",
              "       [0.5811648 ],\n",
              "       [0.64288867],\n",
              "       [0.47642124],\n",
              "       [0.47081   ],\n",
              "       [0.4988663 ],\n",
              "       [0.47455084],\n",
              "       [0.4633283 ],\n",
              "       [0.45771703],\n",
              "       [0.59612817],\n",
              "       [0.6241845 ],\n",
              "       [0.58303523],\n",
              "       [0.54375637],\n",
              "       [0.5194409 ],\n",
              "       [0.5456268 ],\n",
              "       [0.7177055 ],\n",
              "       [0.64849997],\n",
              "       [0.5699423 ],\n",
              "       [0.69526047],\n",
              "       [0.4446241 ],\n",
              "       [0.61483234],\n",
              "       [0.6915196 ],\n",
              "       [0.7251872 ],\n",
              "       [0.6092211 ],\n",
              "       [0.6541112 ],\n",
              "       [0.48951417],\n",
              "       [0.71209425],\n",
              "       [0.69339   ],\n",
              "       [0.6241845 ],\n",
              "       [0.5624606 ],\n",
              "       [0.5100888 ],\n",
              "       [0.6765562 ],\n",
              "       [0.4820325 ],\n",
              "       [0.62979573]], dtype=float32)"
            ]
          },
          "metadata": {},
          "execution_count": 33
        }
      ]
    }
  ]
}