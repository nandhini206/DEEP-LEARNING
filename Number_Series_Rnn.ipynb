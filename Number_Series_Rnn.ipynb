{
  "nbformat": 4,
  "nbformat_minor": 0,
  "metadata": {
    "colab": {
      "provenance": [],
      "gpuType": "T4"
    },
    "kernelspec": {
      "name": "python3",
      "display_name": "Python 3"
    },
    "language_info": {
      "name": "python"
    },
    "accelerator": "GPU"
  },
  "cells": [
    {
      "cell_type": "code",
      "execution_count": 9,
      "metadata": {
        "colab": {
          "base_uri": "https://localhost:8080/"
        },
        "id": "YFzvsCbX59FB",
        "outputId": "30c9b382-1ec9-4d53-c3bb-2d26ad003de0"
      },
      "outputs": [
        {
          "output_type": "stream",
          "name": "stdout",
          "text": [
            "1/1 [==============================] - 0s 473ms/step\n",
            "The predicted next number in the series is: 14.95815\n"
          ]
        }
      ],
      "source": [
        "import numpy as np\n",
        "from keras.models import Sequential\n",
        "from keras.layers import Dense, Bidirectional, SimpleRNN\n",
        "\n",
        "# Define the input data\n",
        "X_train = np.array([[1, 2, 3, 4], [2, 4, 6, 8], [3, 6, 9, 12], [4, 8, 12, 16], [5, 10, 15, 20]])\n",
        "y_train = np.array([[5], [10], [15], [20], [25]])\n",
        "\n",
        "# Reshape the input data to fit the RNN model\n",
        "X_train = np.expand_dims(X_train, axis=2)\n",
        "\n",
        "# Define the Bidirectional RNN model\n",
        "model = Sequential()\n",
        "model.add(Bidirectional(SimpleRNN(units=32), input_shape=(4, 1)))\n",
        "model.add(Dense(1))\n",
        "model.compile(optimizer='adam', loss='mean_squared_error')\n",
        "\n",
        "# Train the model\n",
        "model.fit(X_train, y_train, epochs=100, batch_size=1, verbose=0)\n",
        "\n",
        "# Predict the next number in the series\n",
        "new_series = np.array([[3,6,9,12]])\n",
        "new_series = np.expand_dims(new_series, axis=2)\n",
        "predicted_next = model.predict(new_series)\n",
        "\n",
        "print(\"The predicted next number in the series is:\", predicted_next[0][0])\n"
      ]
    }
  ]
}