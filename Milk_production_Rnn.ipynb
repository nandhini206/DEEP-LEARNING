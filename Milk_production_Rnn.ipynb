Data Loading:

Load the milk production dataset from the CSV file.
Data Preprocessing:

Normalize the dataset using Min-Max scaling to bring all values within a range of [0, 1].
Data Splitting:

Split the dataset into training and testing sets. The training set will contain 80% of the data, and the testing set will contain the remaining 20%.
Dataset Reshaping:

Reshape the dataset to create input-output pairs suitable for LSTM. Each input sequence consists of one time step, and the output is the next time step's value.
Model Building:

Create a Sequential model.
Add an LSTM layer with 50 units as the input layer.
Add a Dense layer with one unit as the output layer.
Compile the model using mean squared error as the loss function and Adam optimizer.
Model Training:

Train the model using the training data.
Use a batch size of 1 and train for 100 epochs.
Model Evaluation:

Predict milk production values for both training and testing datasets.
Invert the normalization to obtain predictions in the original scale.
Calculate evaluation metrics such as Mean Squared Error (MSE), Root Mean Squared Error (RMSE), Mean Absolute Error (MAE), and R-squared score for both training and testing datasets.
Print Evaluation Metrics:

Print the evaluation metrics for both training and testing datasets, including MSE, RMSE, MAE, and R-squared score.
Single Prediction:

Make a single prediction for a user-provided input date.
Convert the input date to the appropriate format.
Reshape the input data for prediction.
Invert the normalization to obtain the prediction in the original scale.
Print the single prediction result.