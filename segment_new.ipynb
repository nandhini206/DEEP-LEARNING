{
  "cells": [
    {
      "cell_type": "code",
      "execution_count": 12,
      "metadata": {
        "id": "wQhHWspIrC58"
      },
      "outputs": [],
      "source": [
        "import tensorflow as tf\n",
        "from tensorflow.keras.models import Sequential\n",
        "from tensorflow.keras.layers import Conv2D, MaxPooling2D, Flatten, Dense, Dropout\n",
        "from tensorflow.keras.preprocessing.image import ImageDataGenerator\n",
        "import matplotlib.pyplot as plt\n"
      ]
    },
    {
      "cell_type": "code",
      "source": [
        "from google.colab import drive\n",
        "drive.mount('/content/drive')"
      ],
      "metadata": {
        "colab": {
          "base_uri": "https://localhost:8080/"
        },
        "id": "JsoIx-Chz9ld",
        "outputId": "292f623b-b79f-42d7-8642-a8fa0bf7c4bc"
      },
      "execution_count": 13,
      "outputs": [
        {
          "output_type": "stream",
          "name": "stdout",
          "text": [
            "Drive already mounted at /content/drive; to attempt to forcibly remount, call drive.mount(\"/content/drive\", force_remount=True).\n"
          ]
        }
      ]
    },
    {
      "cell_type": "code",
      "execution_count": 14,
      "metadata": {
        "id": "GcEDZIPlrJP6"
      },
      "outputs": [],
      "source": [
        "# Define paths to your dataset\n",
        "train_data_dir = '/content/drive/MyDrive/google collllab/Segment Dataset/seg_train'\n",
        "test_data_dir = '/content/drive/MyDrive/google collllab/Segment Dataset/seg_test'"
      ]
    },
    {
      "cell_type": "code",
      "execution_count": 15,
      "metadata": {
        "id": "4oMuxpPir9M5"
      },
      "outputs": [],
      "source": [
        "# Image dimensions\n",
        "img_width, img_height = 150, 150"
      ]
    },
    {
      "cell_type": "code",
      "source": [
        "# Image augmentation\n",
        "datagen = ImageDataGenerator(rescale=1. / 255, validation_split=0.2)"
      ],
      "metadata": {
        "id": "AOkGTWZaW0eB"
      },
      "execution_count": 16,
      "outputs": []
    },
    {
      "cell_type": "code",
      "execution_count": 17,
      "metadata": {
        "colab": {
          "base_uri": "https://localhost:8080/"
        },
        "id": "KYR7dsw-rJUa",
        "outputId": "5bf2deb0-c9a5-43e8-8ba4-31ac29a747e7"
      },
      "outputs": [
        {
          "output_type": "stream",
          "name": "stdout",
          "text": [
            "Found 4842 images belonging to 6 classes.\n",
            "Found 1206 images belonging to 6 classes.\n"
          ]
        }
      ],
      "source": [
        "train_generator = datagen.flow_from_directory(\n",
        "    train_data_dir,\n",
        "    target_size=(img_width, img_height),\n",
        "    batch_size=64,  # Increased batch size for potential speedup\n",
        "    class_mode='categorical',\n",
        "    subset='training'  # Use subset parameter to specify training split\n",
        ")\n",
        "\n",
        "test_generator = datagen.flow_from_directory(\n",
        "    test_data_dir,\n",
        "    target_size=(img_width, img_height),\n",
        "    batch_size=64,\n",
        "    class_mode='categorical',\n",
        ")"
      ]
    },
    {
      "cell_type": "code",
      "source": [
        "# Print out the number of classes found\n",
        "num_classes = len(train_generator.class_indices)\n",
        "print(\"Number of classes:\", num_classes)"
      ],
      "metadata": {
        "colab": {
          "base_uri": "https://localhost:8080/"
        },
        "id": "-uaSZo9m0ss7",
        "outputId": "f5afc870-7163-47d8-b63f-bafa0d31e1c8"
      },
      "execution_count": 18,
      "outputs": [
        {
          "output_type": "stream",
          "name": "stdout",
          "text": [
            "Number of classes: 6\n"
          ]
        }
      ]
    },
    {
      "cell_type": "code",
      "execution_count": 19,
      "metadata": {
        "id": "38rXM1-rrJWR"
      },
      "outputs": [],
      "source": [
        "# Model architecture\n",
        "model = Sequential()\n",
        "model.add(Conv2D(32, (3, 3), activation='relu', input_shape=(img_width, img_height, 3)))\n",
        "model.add(MaxPooling2D((2, 2)))\n",
        "model.add(Conv2D(64, (3, 3), activation='relu'))\n",
        "model.add(MaxPooling2D((2, 2)))\n",
        "model.add(Conv2D(128, (3, 3), activation='relu'))\n",
        "model.add(MaxPooling2D((2, 2)))\n",
        "model.add(Flatten())\n",
        "model.add(Dense(512, activation='relu'))\n",
        "model.add(Dropout(0.5))\n",
        "model.add(Dense(num_classes, activation='softmax'))"
      ]
    },
    {
      "cell_type": "code",
      "execution_count": 20,
      "metadata": {
        "id": "_o7poh3orJZC"
      },
      "outputs": [],
      "source": [
        "# Compile the model\n",
        "model.compile(optimizer='adam', loss='categorical_crossentropy', metrics=['accuracy'])\n"
      ]
    },
    {
      "cell_type": "code",
      "execution_count": 25,
      "metadata": {
        "colab": {
          "base_uri": "https://localhost:8080/"
        },
        "id": "ypk65FFKrJbR",
        "outputId": "09d28bc2-9de2-460d-ca74-d1ff3f1476f4"
      },
      "outputs": [
        {
          "output_type": "stream",
          "name": "stdout",
          "text": [
            "Epoch 1/2\n",
            "75/75 [==============================] - 307s 4s/step - loss: 0.1908 - accuracy: 0.9343 - val_loss: 0.8805 - val_accuracy: 0.7639\n",
            "Epoch 2/2\n",
            "75/75 [==============================] - 286s 4s/step - loss: 0.1460 - accuracy: 0.9550 - val_loss: 0.8534 - val_accuracy: 0.7891\n"
          ]
        }
      ],
      "source": [
        "# Train the model\n",
        "history = model.fit(\n",
        "    train_generator,\n",
        "    steps_per_epoch=train_generator.samples // train_generator.batch_size,\n",
        "    epochs=2,\n",
        "    validation_data=test_generator,\n",
        "    validation_steps=test_generator.samples // test_generator.batch_size\n",
        ")"
      ]
    },
    {
      "cell_type": "code",
      "execution_count": 26,
      "metadata": {
        "id": "v3QtBpjgsLt4",
        "colab": {
          "base_uri": "https://localhost:8080/"
        },
        "outputId": "cea7c84e-0d30-405d-8657-8cbaedd2e08a"
      },
      "outputs": [
        {
          "output_type": "stream",
          "name": "stdout",
          "text": [
            "19/19 [==============================] - 24s 1s/step - loss: 0.8381 - accuracy: 0.7927\n",
            "Test Accuracy: 0.7927031517028809\n"
          ]
        }
      ],
      "source": [
        "# Evaluate the model\n",
        "loss, accuracy = model.evaluate(test_generator)\n",
        "print(\"Test Accuracy:\", accuracy)"
      ]
    },
    {
      "cell_type": "code",
      "execution_count": 27,
      "metadata": {
        "id": "y-GnWq3jsLyk",
        "colab": {
          "base_uri": "https://localhost:8080/",
          "height": 489
        },
        "outputId": "920e0edc-7f16-4f60-83e3-75af9e4ef9d5"
      },
      "outputs": [
        {
          "output_type": "execute_result",
          "data": {
            "text/plain": [
              "<matplotlib.legend.Legend at 0x7feb76b0b280>"
            ]
          },
          "metadata": {},
          "execution_count": 27
        },
        {
          "output_type": "display_data",
          "data": {
            "text/plain": [
              "<Figure size 640x480 with 1 Axes>"
            ],
            "image/png": "[encoded data removed]"
          },
          "metadata": {}
        }
      ],
      "source": [
        "# Plot accuracy\n",
        "plt.plot(history.history['accuracy'], label='Training Accuracy')\n",
        "plt.plot(history.history['val_accuracy'], label='Validation Accuracy')\n",
        "plt.title('Training and Validation Accuracy')\n",
        "plt.xlabel('Epoch')\n",
        "plt.ylabel('Accuracy')\n",
        "plt.legend()\n"
      ]
    },
    {
      "cell_type": "code",
      "execution_count": 28,
      "metadata": {
        "id": "hQnTvF1DsWKR",
        "colab": {
          "base_uri": "https://localhost:8080/",
          "height": 489
        },
        "outputId": "34367411-e4e6-4461-a9b9-9bbea909c0ba"
      },
      "outputs": [
        {
          "output_type": "execute_result",
          "data": {
            "text/plain": [
              "<matplotlib.legend.Legend at 0x7feb76cdeb30>"
            ]
          },
          "metadata": {},
          "execution_count": 28
        },
        {
          "output_type": "display_data",
          "data": {
            "text/plain": [
              "<Figure size 640x480 with 1 Axes>"
            ],
            "image/png": "[encoded data removed]"
          },
          "metadata": {}
        }
      ],
      "source": [
        "# Plot loss\n",
        "plt.plot(history.history['loss'], label='Training Loss')\n",
        "plt.plot(history.history['val_loss'], label='Validation Loss')\n",
        "plt.title('Training and Validation Loss')\n",
        "plt.xlabel('Epoch')\n",
        "plt.ylabel('Loss')\n",
        "plt.legend()"
      ]
    },
    {
      "cell_type": "code",
      "source": [
        "import numpy as np\n",
        "from tensorflow.keras.preprocessing import image\n",
        "\n",
        "# Path to your single image\n",
        "image_path = '/content/drive/MyDrive/google collllab/Segment Dataset/seg_train/mountain/1019.jpg'\n",
        "\n",
        "# Load and preprocess the image\n",
        "img = image.load_img(image_path, target_size=(img_height, img_width))\n",
        "img_array = image.img_to_array(img) / 255.\n",
        "img_array = np.expand_dims(img_array, axis=0)\n",
        "\n",
        "# Make prediction\n",
        "predicted_class = np.argmax(model.predict(img_array))\n",
        "\n",
        "# Get the class label\n",
        "predicted_label = list(train_generator.class_indices.keys())[predicted_class]\n",
        "\n",
        "print(\"Predicted class:\", predicted_label)\n"
      ],
      "metadata": {
        "colab": {
          "base_uri": "https://localhost:8080/"
        },
        "id": "VlTeP-T5Qdk6",
        "outputId": "b2f0d804-5ad2-49a1-e03c-0c9594c86a90"
      },
      "execution_count": 30,
      "outputs": [
        {
          "output_type": "stream",
          "name": "stdout",
          "text": [
            "1/1 [==============================] - 0s 153ms/step\n",
            "Predicted class: mountain\n"
          ]
        }
      ]
    }
  ],
  "metadata": {
    "accelerator": "GPU",
    "colab": {
      "provenance": [],
      "gpuType": "T4"
    },
    "kernelspec": {
      "display_name": "Python 3",
      "name": "python3"
    },
    "language_info": {
      "name": "python"
    }
  },
  "nbformat": 4,
  "nbformat_minor": 0
}