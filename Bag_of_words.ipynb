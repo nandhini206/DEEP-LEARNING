{
  "nbformat": 4,
  "nbformat_minor": 0,
  "metadata": {
    "colab": {
      "provenance": []
    },
    "kernelspec": {
      "name": "python3",
      "display_name": "Python 3"
    },
    "language_info": {
      "name": "python"
    }
  },
  "cells": [
    {
      "cell_type": "code",
      "source": [
        "from google.colab import drive\n",
        "drive.mount('/content/drive')"
      ],
      "metadata": {
        "colab": {
          "base_uri": "https://localhost:8080/"
        },
        "id": "iLdCrHshFAFy",
        "outputId": "1796e321-9604-458d-d667-560835dbda60"
      },
      "execution_count": 1,
      "outputs": [
        {
          "output_type": "stream",
          "name": "stdout",
          "text": [
            "Mounted at /content/drive\n"
          ]
        }
      ]
    },
    {
      "cell_type": "code",
      "source": [
        "import nltk\n",
        "\n",
        "nltk.download('punkt')"
      ],
      "metadata": {
        "colab": {
          "base_uri": "https://localhost:8080/"
        },
        "id": "RPAr5h6CFnuP",
        "outputId": "4c576c18-bc58-421e-92b7-00aee267a041"
      },
      "execution_count": 7,
      "outputs": [
        {
          "output_type": "stream",
          "name": "stderr",
          "text": [
            "[nltk_data] Downloading package punkt to /root/nltk_data...\n",
            "[nltk_data]   Unzipping tokenizers/punkt.zip.\n"
          ]
        },
        {
          "output_type": "execute_result",
          "data": {
            "text/plain": [
              "True"
            ]
          },
          "metadata": {},
          "execution_count": 7
        }
      ]
    },
    {
      "cell_type": "code",
      "source": [
        "import nltk\n",
        "nltk.download('stopwords')\n",
        "import re\n",
        "from nltk.tokenize import word_tokenize\n",
        "from nltk.corpus import stopwords\n",
        "\n",
        "# Assuming you've already set the file_path variable to the path of your text file\n",
        "file_path = \"/content/bagofwords.txt\"\n",
        "\n",
        "# Function to preprocess and print unique words from a text file\n",
        "def print_unique_words(file_path):\n",
        "    # Read the content of the file\n",
        "    with open(file_path, 'r') as file:\n",
        "        paragraph = file.read()\n",
        "\n",
        "    # Tokenize the paragraph\n",
        "    tokens = word_tokenize(paragraph)\n",
        "\n",
        "    # Convert to lower case to ensure case-insensitivity\n",
        "    tokens = [token.lower() for token in tokens]\n",
        "\n",
        "    # Remove brackets, commas, quotations, and punctuation marks\n",
        "    tokens = [re.sub(r'[^\\w\\s]', '', token) for token in tokens]\n",
        "\n",
        "    # Remove stopwords\n",
        "    stop_words = set(stopwords.words('english'))\n",
        "    tokens = [token for token in tokens if token not in stop_words]\n",
        "\n",
        "    # Remove empty strings\n",
        "    tokens = list(filter(None, tokens))\n",
        "\n",
        "    # Remove duplicate words by converting the list to a set, then back to a list\n",
        "    unique_tokens = list(set(tokens))\n",
        "\n",
        "    # Print the unique tokens\n",
        "    print(unique_tokens)\n",
        "\n",
        "# Call the function with the path to your file\n",
        "print_unique_words(file_path)\n"
      ],
      "metadata": {
        "colab": {
          "base_uri": "https://localhost:8080/"
        },
        "id": "VutABIafFGAB",
        "outputId": "812dfa83-2e47-4ee9-c7e8-b3513e612099"
      },
      "execution_count": 17,
      "outputs": [
        {
          "output_type": "stream",
          "name": "stdout",
          "text": [
            "['alter', 'immune', 'parks', 'disease', 'pregnant', 'pollution', 'agency', 'disorders', 'gene', 'people', 'economic', 'activity', '7', '1985', 'smell', 'hemorrhagic', 'increasing', 'seen', 'function', 'shown', 'compromise', 'top', 'harm', 'sports', 'alone', 'home', 'physical', 'fuel', 'san', 'caused', 'overall', 'blacksmith', 'includes', 'linking', 'dementias', 'california', 'level', 'trap', 'harmed', 'cells', 'perinatal', 'ferromanganese', 'encourages', 'imperial', 'contain', 'changes', 'admissions', 'degraded', '50plus', 'leukemia', 'pm25', 'haze', 'stated', 'sulfates', 'helps', 'monitored', 'age', 'recipients', 'first', 'factor', 'matter', 'scope', 'fish', 'externality', 'bsafe', 'recent', 'atmospherethere', 'often', 'affects', 'energy', 'given', 'cases', 'valley', 'impact', 'climate', 'fine', 'fund', 'expectancy', 'oxide', 'longterm', 'limitation', 'emotional', 'weight', 'handled', 'per', 'tactics', 'dwellers', 'control', 'diseases', 'copd', 'body', 'removers', 'created', '2023', 'prosperity', 'nonhodgkin', 'especially', '2013', 'biomarker', 'stroke', 'participants', 'communityrun', 'might', 'wildfire', 'growing', '21', 'improvement', 'chemically', 'busy', '2022', 'development', 'groundlevel', 'published', 'symptoms', 'neural', 'reduced', 'dioxide', 'reducing', 'reliance', 'boilers', 'roads', 'breathes', 'moderately', 'past', 'types', 'stress', 'trucking', 'nutrients', 'strategies', 'different', 'temperaturehence', 'brain', 'advances', 'participation', 'years', 'identified', 'incidence', 'childhood', 'particulate', 'effects', 'phenomena', '25', 'exposed', 'using', 'crisis', 'several', 'acute', 'soils', 'nitrogen', 'byproducts', 'found', 'action', 'released', 'daily', 'impair', 'york', 'role', 'significant', 'subset', 'cancer', 'montreal', 'release', 'way', 'combustion', 'cleaning', 'older', 'osteoporosis', 'cars', '2015', 'supports', 'status', 'eating', 'agents', 'state', 'chloride', 'materials', 'associated', 'react', 'continually', 'suffering', 'breast', 'inflammation', 'tissue', 'maternal', 'sulfur', 'project', 'address', 'economy', 'decline', 'foundation', 'history', 'adults', 'rules', 'residents', 'nature', 'vaporize', 'monitors', 'places', 'vegetation', 'haphazard', 'ambient', 'concerns', 'manganese', 'component', 'productivity', 'leading', 'university', 'craft', 'disorder', 'person', 'local', 'sox', 'wellconducted', 'almost', 'refineries', 'cost', 'track', 'near', 'billows', 'approaches', 'lungfunction', 'chemicals', '361', 'mixture', 'inhaled', 'slower', 'organic', 'good', 'deaths', 'new', 'harmful', 'contemporary', 'executed', 'thinner', 'southern', 'involvement', 'landmark', 'anthropogenic', 'natural', '40', 'pm', 'contribute', 'airways', 'asthma', 'mortality', 'health', 'iron', 'also', 'extensive', 'mellitus', 'considerable', 'times', 'discovered', 'hazardous', 'sciences', 'affect', 'detrimental', 'niehs', '30', 'chronic', 'challenge', 'individual', 'regional', 'classified', 'aging', 'county', 'reactions', 'indoor', '10', 'features', 'iq', 'heat', 'barriers', 'vehicle', 'interactions', 'pressure', 'according', 'rural', 'activities', 'along', 'humans', 'pregnancy', 'center', 'animal', 'leader', 'decomposing', 'causing', 'degradation', 'marietta', 'like', 'fatty', 'generation', 'gases', 'national', 'presence', 'volatile', 'racial', 'dirty', 'cause', 'lived', 'threat', '1993', 'blood', '100', 'joaquin', 'limit', 'cognitive', 'depend', 'variants', 'one', 'emphysema', 'neurobehavioral', 'urbanization', 'obtained', 'designation', 'carcinogens', 'forms', 'expands', 'fetal', 'closely', 'global', 'obstructive', 'room', 'exhaust', 'motor', 'known', 'pronounced', 'attentiondeficit', 'outdoor', 'relatively', 'taking', 'feeding', 'brings', 'protect', 'largest', '25associated', '2', 'allergies', 'fuels', 'chlorofluorocarbons', 'hazard', 'lipoprotein', 'researchers', 'courtesy', 'conduct', 'come', 'twice', 'weeks', 'bicycling', 'plants', 'studies', 'urban', 'surrounding', 'asthmarelated', 'communitylevel', 'increase', 'airborne', 'find', 'carbon', 'ecosystems', '65', 'voc', 'rubber', 'complex', 'association', 'legislation', 'power', '57000', 'toxicology', 'zip', 'dangerous', 'food', 'regulated', 'greenhouse', 'substances', 'hydrogen', 'low', 'northern', 'benzene', 'impacts', 'adhd', 'severity', 'highefficiency', 'losses', 'counter', 'include', 'size', 'men', 'school', 'lowincome', 'pollutionrelated', 'evidence', 'smoke', 'early', 'primary', 'rises', 'alters', 'familiar', 'acid', 'developing', 'impaired', 'study', 'number', 'around', 'ammonia', 'polluted', 'fire', 'mean', 'human', 'operations', 'continues', 'communities', 'plume', 'even', 'largescale', 'burning', 'behavior', 'environment', 'read', 'either', 'components', 'problem', 'quality', 'estimated', 'beings', 'babies', 'pulmonary', 'fumes', 'lead', 'filtration', 'regarded', 'report', 'speed', 'depression', 'code', 'nighttime', '2019', 'calcification', 'emitted', 'cigarette', 'smog', 'coal', 'use', 'aromatic', 'preterm', 'specific', 'previous', '9', '2018', 'populations', 'reproductive', 'lowerincome', 'emission', 'made', 'analyzed', 'vocs', 'bone', '15', 'know', 'particulates', 'adolescence', 'supplies', 'respiratorytract', 'animals', '2017', 'trafficrelated', 'wildfires', 'change', 'product', 'biological', 'reaching', 'may', 'negative', 'women', 'ohio', 'ultimately', '29', 'landuse', 'activetravel', 'seeks', 'coalfueled', 'rain', 'sister', 'ntp', 'certain', 'spine', 'close', 'major', 'pungent', 'image', 'annually', 'higher', 'serious', 'worldwide', 'linked', 'sulphur', 'gas', 'vessel', 'earth', 'degree', 'implicated', 'elements', 'many', 'processes', 'since', 'cholesterol', 'poor', '1970', 'live', 'composed', 'helsinki', 'hair', 'polycyclic', 'arteries', 'areas', 'lumbar', 'two', 'dusts', 'causes', '90', 'program', 'shows', 'available', 'organization', 'trillion', 'high', 'products', 'alerts', 'autism', 'oxides', 'another', 'consequences', 'obesity', 'lle', 'postmenopausal', 'davis', 'begun', 'risk', 'resulted', 'responsible', 'pah', 'produce', 'pandemic', 'among', 'second', 'ongoing', 'parkinson', 'sources', 'sunlight', 'intricately', 'affected', 'children', 'child', 'industrial', '17', 'occupational', 'largely', 'listed', 'solutions', 'carcinogen', 'smokestack', 'streetside', 'collaborative', 'steel', 'science', 'threats', 'deeply', 'pahs', 'related', 'illness', 'prevalence', 'paths', 'suggests', 'particles', 'tied', 'refinery', 'atmosphere', 'mix', 'concern', 'used', 'lung', 'biospecimen', 'pollutant', 'cities', 'widespread', 'exposure', 'baby', 'us', 'processing', 'groups', 'minorities', 'cognition', 'highdensity', 'less', 'findings', 'example', 'mineral', 'wellestablished', 'system', 'furnishings', 'result', 'absences', 'toxic', 'progress', 'hyperactivity', 'network', 'youth', 'birth', 'wheezing', 'including', 'equivalent', 'trees', 'properly', 'breathing', 'far', 'sometimes', 'tend', 'agricultural', 'defects', 'problems', 'depletion', 'additional', 'death', 'oils', 'production', 'improvements', 'shortterm', 'omega3', 'communityengaged', 'gardens', 'respiratory', 'highway', 'everyone', 'molecules', 'design', 'fossil', 'creating', 'seattle', 'due', 'heart', 'reduce', 'technologies', 'paint', 'primarily', 'million', 'others', 'accounts', 'built', 'containing', 'waking', 'multiyear', 'particularly', 'occurred', 'living', 'compounds', 'woman', 'making', 'six', 'improved', 'discover', 'hospital', 'ash', 'methane', 'ie', 'process', 'comparable', 'policies', '20002016', 'standards', 'gasses', 'neurological', 'acids', 'alzheimer', 'together', 'paints', 'glue', 'hydrocarbons', 'least', 'well', 'contamination', 'city', 'likely', 'brown', 'options', 'nitrates', 'lay', 'eruptions', 'manufacturing', 'disabilities', 'although', 'principally', 'emissions', 'nearly', 'homes', '63', 'addition', 'prenatal', 'type', 'contributors', 'established', 'increased', 'lower', 'nox', 'decades', 'monoxide', '8', 'buffers', 'bronchitis', 'genes', 'links', 'environmental', 'washington', 'epa', 'settles', 'crops', 'successful', '2008', 'pesticides', 'connection', 'significantly', 'link', 'damage', 'ports', 'methylene', 'humanmade', 'albeit', 'various', 'life', 'considered', 'international', 'hepa', 'cardiovascular', 'concentrations', 'large', 'population', 'grant', 'building', 'institute', 'americans', 'play', 'tube', 'conversely', 'scores', 'studied', 'develop', 'research', 'regulation', '5', 'trade', 'inorganic', 'year', 'attributable', 'diabetes', 'levels', 'noxious', 'improving', 'looking', 'capacity', 'traderelated', 'conducting', 'roadways', 'later', 'habitat', 'public', 'efforts', 'called', 'air', 'adhdrelated', 'protocol', 'globally', 'hasten', 'western', 'walking', 'releases', 'organisms', 'oxidative', 'niehsfunded', 'lowered', 'community', 'across', 'data', 'citizen', 'build', 'aerosol', 'trimester', 'infections', 'volcanic', 'adds', 'dementia', 'chemical', '2020', 'genetics', 'single', 'gasoline', 'hypertensive', 'covid19', 'pollutants', 'chance', 'neglected', 'loss', 'ground', 'nitrous', 'lymphoma', 'atmospheric', 'increases', 'byproduct', 'confluence', 'worst', 'third', 'shrinkage', 'developed', 'ozone', 'world', 'depleting', 'greater', '12', 'psychiatric']\n"
          ]
        },
        {
          "output_type": "stream",
          "name": "stderr",
          "text": [
            "[nltk_data] Downloading package stopwords to /root/nltk_data...\n",
            "[nltk_data]   Package stopwords is already up-to-date!\n"
          ]
        }
      ]
    }
  ]
}