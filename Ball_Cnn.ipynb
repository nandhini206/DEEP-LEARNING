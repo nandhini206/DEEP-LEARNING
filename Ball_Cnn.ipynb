{
  "cells": [
    {
      "cell_type": "code",
      "execution_count": null,
      "metadata": {
        "colab": {
          "base_uri": "https://localhost:8080/"
        },
        "id": "Quf66ZfrDN_u",
        "outputId": "2a234f4f-c87e-416f-8b25-f426c238fcf7"
      },
      "outputs": [
        {
          "name": "stdout",
          "output_type": "stream",
          "text": [
            "Mounted at /content/drive\n"
          ]
        }
      ],
      "source": [
        "from google.colab import drive\n",
        "drive.mount('/content/drive')"
      ]
    },
    {
      "cell_type": "code",
      "execution_count": 14,
      "metadata": {
        "id": "5h5SA798DrnE"
      },
      "outputs": [],
      "source": [
        "from keras.models import Sequential\n",
        "from keras.layers import Conv2D, MaxPooling2D, Flatten, Dense\n",
        "from keras.preprocessing.image import ImageDataGenerator"
      ]
    },
    {
      "cell_type": "code",
      "execution_count": 15,
      "metadata": {
        "id": "0YvQDh2oDrpc"
      },
      "outputs": [],
      "source": [
        "# Image dimensions\n",
        "img_width, img_height = 150, 150"
      ]
    },
    {
      "cell_type": "code",
      "execution_count": 16,
      "metadata": {
        "id": "x_VQLQ7ODObv"
      },
      "outputs": [],
      "source": [
        "# Path to the main directory\n",
        "train_data_dir='/content/drive/MyDrive/google collllab/Ball Dataset/Ball_train'\n",
        "test_data_dir='/content/drive/MyDrive/google collllab/Ball Dataset/Ball_test'"
      ]
    },
    {
      "cell_type": "code",
      "execution_count": 17,
      "metadata": {
        "id": "q6Pw8zXiDOeQ"
      },
      "outputs": [],
      "source": [
        "datagen=ImageDataGenerator(rescale=1. /255,validation_split=0.2)"
      ]
    },
    {
      "cell_type": "code",
      "execution_count": 18,
      "metadata": {
        "colab": {
          "base_uri": "https://localhost:8080/",
          "height": 0
        },
        "id": "a4bOEJAbDOgG",
        "outputId": "6b2335d5-7c49-4d55-b11c-d344c6351746"
      },
      "outputs": [
        {
          "output_type": "stream",
          "name": "stdout",
          "text": [
            "Found 3064 images belonging to 6 classes.\n",
            "Found 779 images belonging to 6 classes.\n"
          ]
        }
      ],
      "source": [
        "train_generator = datagen.flow_from_directory(\n",
        "    train_data_dir,\n",
        "    target_size=(img_width, img_height),\n",
        "    batch_size=64,\n",
        "    class_mode='categorical'\n",
        "    )\n",
        "\n",
        "validation_generator = datagen.flow_from_directory(\n",
        "    test_data_dir,\n",
        "    target_size=(img_width, img_height),\n",
        "    batch_size=64,\n",
        "    class_mode='categorical'\n",
        "    )\n"
      ]
    },
    {
      "cell_type": "code",
      "execution_count": 19,
      "metadata": {
        "id": "FUhrrIk0DOiA"
      },
      "outputs": [],
      "source": [
        "#CNN MODEL:\n",
        "\n",
        "model=Sequential()\n",
        "\n",
        "model.add(Conv2D(32,(3,3),input_shape=(img_width,img_height,3),activation='relu'))\n",
        "model.add(MaxPooling2D(pool_size=(2,2)))\n",
        "\n",
        "model.add(Conv2D(32,(3,3),activation='relu'))\n",
        "model.add(MaxPooling2D(pool_size=(2,2)))\n",
        "\n",
        "model.add(Flatten())\n",
        "\n",
        "model.add(Dense(64,activation='relu'))\n",
        "model.add(Dense(6, activation='softmax'))\n"
      ]
    },
    {
      "cell_type": "code",
      "execution_count": 20,
      "metadata": {
        "id": "gfsNsY4nDOjo"
      },
      "outputs": [],
      "source": [
        "# Compile the model\n",
        "model.compile(optimizer='adam', loss='categorical_crossentropy', metrics=['accuracy'])\n"
      ]
    },
    {
      "cell_type": "code",
      "execution_count": 21,
      "metadata": {
        "colab": {
          "base_uri": "https://localhost:8080/",
          "height": 0
        },
        "id": "qIZjL5tgEwgz",
        "outputId": "2c2514df-ace0-4173-e708-1710d47f6a4c"
      },
      "outputs": [
        {
          "output_type": "stream",
          "name": "stdout",
          "text": [
            "Epoch 1/5\n",
            "47/47 [==============================] - 112s 2s/step - loss: 1.7862 - accuracy: 0.2707 - val_loss: 1.6310 - val_accuracy: 0.3047\n",
            "Epoch 2/5\n",
            "47/47 [==============================] - 121s 3s/step - loss: 1.5009 - accuracy: 0.4027 - val_loss: 1.4681 - val_accuracy: 0.4141\n",
            "Epoch 3/5\n",
            "47/47 [==============================] - 111s 2s/step - loss: 1.2623 - accuracy: 0.5270 - val_loss: 1.3099 - val_accuracy: 0.5273\n",
            "Epoch 4/5\n",
            "47/47 [==============================] - 136s 3s/step - loss: 0.9801 - accuracy: 0.6500 - val_loss: 1.2981 - val_accuracy: 0.5312\n",
            "Epoch 5/5\n",
            "47/47 [==============================] - 125s 3s/step - loss: 0.7103 - accuracy: 0.7557 - val_loss: 1.2666 - val_accuracy: 0.5664\n"
          ]
        }
      ],
      "source": [
        "# Train the model\n",
        "history = model.fit(\n",
        "    train_generator,\n",
        "    steps_per_epoch=train_generator.samples // train_generator.batch_size,\n",
        "    epochs=5,\n",
        "    validation_data=validation_generator,\n",
        "    validation_steps=validation_generator.samples // validation_generator.batch_size\n",
        ")\n"
      ]
    },
    {
      "cell_type": "code",
      "source": [
        "print(f\"Final validation accuracy: {history.history['val_accuracy'][-1]}\")"
      ],
      "metadata": {
        "colab": {
          "base_uri": "https://localhost:8080/",
          "height": 0
        },
        "id": "QBuPHjRMLvAP",
        "outputId": "756db435-a7e3-47d8-dbfc-5a6fe027d06e"
      },
      "execution_count": 22,
      "outputs": [
        {
          "output_type": "stream",
          "name": "stdout",
          "text": [
            "Final validation accuracy: 0.56640625\n"
          ]
        }
      ]
    },
    {
      "cell_type": "code",
      "source": [
        "import numpy as np\n",
        "from keras.preprocessing import image\n",
        "\n",
        "# Function to predict a single image\n",
        "def predict_single_image(model, image_path):\n",
        "    img = image.load_img(image_path, target_size=(img_width, img_height))\n",
        "    img_array = image.img_to_array(img) / 255.0\n",
        "    img_array = np.expand_dims(img_array, axis=0)\n",
        "    prediction = model.predict(img_array)\n",
        "    predicted_class = np.argmax(prediction)\n",
        "    classes = ['american football', 'basebal', 'cricket ball','golf ball','hockey ball','table tennis']\n",
        "    print(f\"Prediction: {classes[predicted_class]} - Raw output: {prediction[0]}\")\n",
        "\n",
        "# Predict single image\n",
        "predict_single_image(model, '/content/drive/MyDrive/google collllab/Ball Dataset/Ball_train/cricket_ball/cricket_ball_100.jpg')\n"
      ],
      "metadata": {
        "colab": {
          "base_uri": "https://localhost:8080/",
          "height": 0
        },
        "id": "B1CNjS3LLvIe",
        "outputId": "290d58ce-abdd-4d3c-f2ba-7525d015e907"
      },
      "execution_count": 26,
      "outputs": [
        {
          "output_type": "stream",
          "name": "stdout",
          "text": [
            "1/1 [==============================] - 0s 31ms/step\n",
            "Prediction: cricket ball - Raw output: [6.58115894e-02 2.23764437e-05 8.14439654e-01 1.68101571e-04\n",
            " 1.19253546e-01 3.04789428e-04]\n"
          ]
        }
      ]
    },
    {
      "cell_type": "code",
      "source": [
        "from sklearn.metrics import confusion_matrix\n",
        "import matplotlib.pyplot as plt\n",
        "import seaborn as sns\n",
        "def get_predictions(model, generator):\n",
        "    y_true = generator.classes\n",
        "    y_pred = np.argmax(model.predict(generator), axis=-1)\n",
        "    return y_true, y_pred\n",
        "\n",
        "# Get predictions for the validation set\n",
        "y_true, y_pred = get_predictions(model, validation_generator)\n",
        "\n",
        "# Compute the confusion matrix\n",
        "conf_matrix = confusion_matrix(y_true, y_pred)\n",
        "\n",
        "# Plot the confusion matrix\n",
        "plt.figure(figsize=(8, 6))\n",
        "sns.heatmap(conf_matrix, annot=True, fmt=\"d\", cmap=\"Blues\")\n",
        "plt.xlabel('Predicted Labels')\n",
        "plt.ylabel('True Labels')\n",
        "plt.title('Confusion Matrix')\n",
        "plt.show()"
      ],
      "metadata": {
        "colab": {
          "base_uri": "https://localhost:8080/",
          "height": 581
        },
        "id": "Dw_BBPx5OZJN",
        "outputId": "31c25c14-e1a4-4e3e-bf3e-6e29d9926847"
      },
      "execution_count": 30,
      "outputs": [
        {
          "output_type": "stream",
          "name": "stdout",
          "text": [
            "13/13 [==============================] - 12s 886ms/step\n"
          ]
        },
        {
          "output_type": "display_data",
          "data": {
            "text/plain": [
              "<Figure size 800x600 with 2 Axes>"
            ],
            "image/png": "[encoded data removed]"
          },
          "metadata": {}
        }
      ]
    }
  ],
  "metadata": {
    "accelerator": "GPU",
    "colab": {
      "gpuType": "T4",
      "provenance": []
    },
    "kernelspec": {
      "display_name": "Python 3",
      "name": "python3"
    },
    "language_info": {
      "name": "python"
    }
  },
  "nbformat": 4,
  "nbformat_minor": 0
}